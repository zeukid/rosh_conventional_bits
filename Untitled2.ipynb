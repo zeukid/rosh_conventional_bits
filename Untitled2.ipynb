{
 "cells": [
  {
   "cell_type": "code",
   "execution_count": 2,
   "id": "b927b521-5dcd-4c91-805a-4e63476b1cea",
   "metadata": {},
   "outputs": [],
   "source": [
    "from qiskit import *\n",
    "from qiskit.algorithms import Shor"
   ]
  },
  {
   "cell_type": "code",
   "execution_count": 5,
   "id": "fc493321-6f83-40b6-b9b2-9ca280e10075",
   "metadata": {},
   "outputs": [
    {
     "name": "stdout",
     "output_type": "stream",
     "text": [
      "[[3, 5]]\n"
     ]
    }
   ],
   "source": [
    "quantum_instance = Aer.get_backend('qasm_simulator')\n",
    "shor = Shor(quantum_instance = quantum_instance)\n",
    "result = shor.factor(N = 15,a = 2)\n",
    "print(result.factors)"
   ]
  },
  {
   "cell_type": "code",
   "execution_count": null,
   "id": "cefb2063-afa5-48a0-891d-cf7d68e6f9d8",
   "metadata": {},
   "outputs": [],
   "source": []
  }
 ],
 "metadata": {
  "kernelspec": {
   "display_name": "Qiskit v0.30.0 (ipykernel)",
   "language": "python",
   "name": "python3"
  },
  "language_info": {
   "codemirror_mode": {
    "name": "ipython",
    "version": 3
   },
   "file_extension": ".py",
   "mimetype": "text/x-python",
   "name": "python",
   "nbconvert_exporter": "python",
   "pygments_lexer": "ipython3",
   "version": "3.8.10"
  },
  "widgets": {
   "application/vnd.jupyter.widget-state+json": {
    "state": {},
    "version_major": 2,
    "version_minor": 0
   }
  }
 },
 "nbformat": 4,
 "nbformat_minor": 5
}
